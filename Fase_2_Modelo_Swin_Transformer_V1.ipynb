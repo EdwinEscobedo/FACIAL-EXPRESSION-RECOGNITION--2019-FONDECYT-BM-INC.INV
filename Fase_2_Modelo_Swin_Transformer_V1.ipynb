{
  "cells": [
    {
      "cell_type": "markdown",
      "metadata": {
        "id": "Ly26NqNza4cH"
      },
      "source": [
        "# **0. Configuraciones**"
      ]
    },
    {
      "cell_type": "code",
      "execution_count": null,
      "metadata": {
        "id": "bXMIp-CcEIpf",
        "colab": {
          "base_uri": "https://localhost:8080/"
        },
        "outputId": "66035262-783b-459b-f288-1038cff7691e"
      },
      "outputs": [
        {
          "output_type": "stream",
          "name": "stdout",
          "text": [
            "Mounted at /content/drive\n"
          ]
        }
      ],
      "source": [
        "from google.colab import drive\n",
        "drive.mount('/content/drive')"
      ]
    },
    {
      "cell_type": "code",
      "execution_count": null,
      "metadata": {
        "cellView": "form",
        "id": "Wnpy440qau3A",
        "colab": {
          "base_uri": "https://localhost:8080/"
        },
        "outputId": "cb32ecf6-e4f0-4e4e-f823-cbd35c5e09e6"
      },
      "outputs": [
        {
          "output_type": "stream",
          "name": "stdout",
          "text": [
            "Fri Jun  3 14:46:58 2022       \n",
            "+-----------------------------------------------------------------------------+\n",
            "| NVIDIA-SMI 460.32.03    Driver Version: 460.32.03    CUDA Version: 11.2     |\n",
            "|-------------------------------+----------------------+----------------------+\n",
            "| GPU  Name        Persistence-M| Bus-Id        Disp.A | Volatile Uncorr. ECC |\n",
            "| Fan  Temp  Perf  Pwr:Usage/Cap|         Memory-Usage | GPU-Util  Compute M. |\n",
            "|                               |                      |               MIG M. |\n",
            "|===============================+======================+======================|\n",
            "|   0  Tesla T4            Off  | 00000000:00:04.0 Off |                    0 |\n",
            "| N/A   62C    P8    11W /  70W |      0MiB / 15109MiB |      0%      Default |\n",
            "|                               |                      |                  N/A |\n",
            "+-------------------------------+----------------------+----------------------+\n",
            "                                                                               \n",
            "+-----------------------------------------------------------------------------+\n",
            "| Processes:                                                                  |\n",
            "|  GPU   GI   CI        PID   Type   Process name                  GPU Memory |\n",
            "|        ID   ID                                                   Usage      |\n",
            "|=============================================================================|\n",
            "|  No running processes found                                                 |\n",
            "+-----------------------------------------------------------------------------+\n",
            "Your runtime has 27.3 gigabytes of available RAM\n",
            "\n",
            "You are using a high-RAM runtime!\n"
          ]
        }
      ],
      "source": [
        "#@title **A. INFORMACIÓN DE GPU**\n",
        "gpu_info = !nvidia-smi\n",
        "gpu_info = '\\n'.join(gpu_info)\n",
        "if gpu_info.find('failed') >= 0:\n",
        "  print('Not connected to a GPU')\n",
        "else:\n",
        "  print(gpu_info)\n",
        "from psutil import virtual_memory\n",
        "ram_gb = virtual_memory().total / 1e9\n",
        "print('Your runtime has {:.1f} gigabytes of available RAM\\n'.format(ram_gb))\n",
        "\n",
        "if ram_gb < 20:\n",
        "  print('Not using a high-RAM runtime')\n",
        "else:\n",
        "  print('You are using a high-RAM runtime!')"
      ]
    },
    {
      "cell_type": "code",
      "execution_count": null,
      "metadata": {
        "cellView": "form",
        "id": "Gp-4FEHrbYL-",
        "colab": {
          "base_uri": "https://localhost:8080/"
        },
        "outputId": "6cbb7e05-faea-467a-eff7-9d86a51db01e"
      },
      "outputs": [
        {
          "output_type": "stream",
          "name": "stdout",
          "text": [
            "Looking in indexes: https://pypi.org/simple, https://us-python.pkg.dev/colab-wheels/public/simple/\n",
            "Collecting pytorch-lightning\n",
            "  Downloading pytorch_lightning-1.6.4-py3-none-any.whl (585 kB)\n",
            "\u001b[K     |████████████████████████████████| 585 kB 9.5 MB/s \n",
            "\u001b[?25hCollecting pyDeprecate>=0.3.1\n",
            "  Downloading pyDeprecate-0.3.2-py3-none-any.whl (10 kB)\n",
            "Requirement already satisfied: protobuf<=3.20.1 in /usr/local/lib/python3.7/dist-packages (from pytorch-lightning) (3.17.3)\n",
            "Collecting PyYAML>=5.4\n",
            "  Downloading PyYAML-6.0-cp37-cp37m-manylinux_2_5_x86_64.manylinux1_x86_64.manylinux_2_12_x86_64.manylinux2010_x86_64.whl (596 kB)\n",
            "\u001b[K     |████████████████████████████████| 596 kB 68.8 MB/s \n",
            "\u001b[?25hRequirement already satisfied: packaging>=17.0 in /usr/local/lib/python3.7/dist-packages (from pytorch-lightning) (21.3)\n",
            "Requirement already satisfied: tensorboard>=2.2.0 in /usr/local/lib/python3.7/dist-packages (from pytorch-lightning) (2.8.0)\n",
            "Requirement already satisfied: tqdm>=4.57.0 in /usr/local/lib/python3.7/dist-packages (from pytorch-lightning) (4.64.0)\n",
            "Collecting torchmetrics>=0.4.1\n",
            "  Downloading torchmetrics-0.9.1-py3-none-any.whl (419 kB)\n",
            "\u001b[K     |████████████████████████████████| 419 kB 75.0 MB/s \n",
            "\u001b[?25hCollecting fsspec[http]!=2021.06.0,>=2021.05.0\n",
            "  Downloading fsspec-2022.5.0-py3-none-any.whl (140 kB)\n",
            "\u001b[K     |████████████████████████████████| 140 kB 93.5 MB/s \n",
            "\u001b[?25hRequirement already satisfied: typing-extensions>=4.0.0 in /usr/local/lib/python3.7/dist-packages (from pytorch-lightning) (4.1.1)\n",
            "Requirement already satisfied: numpy>=1.17.2 in /usr/local/lib/python3.7/dist-packages (from pytorch-lightning) (1.21.6)\n",
            "Requirement already satisfied: torch>=1.8.* in /usr/local/lib/python3.7/dist-packages (from pytorch-lightning) (1.11.0+cu113)\n",
            "Collecting aiohttp\n",
            "  Downloading aiohttp-3.8.1-cp37-cp37m-manylinux_2_5_x86_64.manylinux1_x86_64.manylinux_2_12_x86_64.manylinux2010_x86_64.whl (1.1 MB)\n",
            "\u001b[K     |████████████████████████████████| 1.1 MB 71.2 MB/s \n",
            "\u001b[?25hRequirement already satisfied: requests in /usr/local/lib/python3.7/dist-packages (from fsspec[http]!=2021.06.0,>=2021.05.0->pytorch-lightning) (2.23.0)\n",
            "Requirement already satisfied: pyparsing!=3.0.5,>=2.0.2 in /usr/local/lib/python3.7/dist-packages (from packaging>=17.0->pytorch-lightning) (3.0.9)\n",
            "Requirement already satisfied: six>=1.9 in /usr/local/lib/python3.7/dist-packages (from protobuf<=3.20.1->pytorch-lightning) (1.15.0)\n",
            "Requirement already satisfied: grpcio>=1.24.3 in /usr/local/lib/python3.7/dist-packages (from tensorboard>=2.2.0->pytorch-lightning) (1.46.3)\n",
            "Requirement already satisfied: markdown>=2.6.8 in /usr/local/lib/python3.7/dist-packages (from tensorboard>=2.2.0->pytorch-lightning) (3.3.7)\n",
            "Requirement already satisfied: wheel>=0.26 in /usr/local/lib/python3.7/dist-packages (from tensorboard>=2.2.0->pytorch-lightning) (0.37.1)\n",
            "Requirement already satisfied: google-auth-oauthlib<0.5,>=0.4.1 in /usr/local/lib/python3.7/dist-packages (from tensorboard>=2.2.0->pytorch-lightning) (0.4.6)\n",
            "Requirement already satisfied: werkzeug>=0.11.15 in /usr/local/lib/python3.7/dist-packages (from tensorboard>=2.2.0->pytorch-lightning) (1.0.1)\n",
            "Requirement already satisfied: tensorboard-plugin-wit>=1.6.0 in /usr/local/lib/python3.7/dist-packages (from tensorboard>=2.2.0->pytorch-lightning) (1.8.1)\n",
            "Requirement already satisfied: google-auth<3,>=1.6.3 in /usr/local/lib/python3.7/dist-packages (from tensorboard>=2.2.0->pytorch-lightning) (1.35.0)\n",
            "Requirement already satisfied: tensorboard-data-server<0.7.0,>=0.6.0 in /usr/local/lib/python3.7/dist-packages (from tensorboard>=2.2.0->pytorch-lightning) (0.6.1)\n",
            "Requirement already satisfied: absl-py>=0.4 in /usr/local/lib/python3.7/dist-packages (from tensorboard>=2.2.0->pytorch-lightning) (1.1.0)\n",
            "Requirement already satisfied: setuptools>=41.0.0 in /usr/local/lib/python3.7/dist-packages (from tensorboard>=2.2.0->pytorch-lightning) (57.4.0)\n",
            "Requirement already satisfied: pyasn1-modules>=0.2.1 in /usr/local/lib/python3.7/dist-packages (from google-auth<3,>=1.6.3->tensorboard>=2.2.0->pytorch-lightning) (0.2.8)\n",
            "Requirement already satisfied: rsa<5,>=3.1.4 in /usr/local/lib/python3.7/dist-packages (from google-auth<3,>=1.6.3->tensorboard>=2.2.0->pytorch-lightning) (4.8)\n",
            "Requirement already satisfied: cachetools<5.0,>=2.0.0 in /usr/local/lib/python3.7/dist-packages (from google-auth<3,>=1.6.3->tensorboard>=2.2.0->pytorch-lightning) (4.2.4)\n",
            "Requirement already satisfied: requests-oauthlib>=0.7.0 in /usr/local/lib/python3.7/dist-packages (from google-auth-oauthlib<0.5,>=0.4.1->tensorboard>=2.2.0->pytorch-lightning) (1.3.1)\n",
            "Requirement already satisfied: importlib-metadata>=4.4 in /usr/local/lib/python3.7/dist-packages (from markdown>=2.6.8->tensorboard>=2.2.0->pytorch-lightning) (4.11.4)\n",
            "Requirement already satisfied: zipp>=0.5 in /usr/local/lib/python3.7/dist-packages (from importlib-metadata>=4.4->markdown>=2.6.8->tensorboard>=2.2.0->pytorch-lightning) (3.8.0)\n",
            "Requirement already satisfied: pyasn1<0.5.0,>=0.4.6 in /usr/local/lib/python3.7/dist-packages (from pyasn1-modules>=0.2.1->google-auth<3,>=1.6.3->tensorboard>=2.2.0->pytorch-lightning) (0.4.8)\n",
            "Requirement already satisfied: chardet<4,>=3.0.2 in /usr/local/lib/python3.7/dist-packages (from requests->fsspec[http]!=2021.06.0,>=2021.05.0->pytorch-lightning) (3.0.4)\n",
            "Requirement already satisfied: certifi>=2017.4.17 in /usr/local/lib/python3.7/dist-packages (from requests->fsspec[http]!=2021.06.0,>=2021.05.0->pytorch-lightning) (2022.6.15)\n",
            "Requirement already satisfied: urllib3!=1.25.0,!=1.25.1,<1.26,>=1.21.1 in /usr/local/lib/python3.7/dist-packages (from requests->fsspec[http]!=2021.06.0,>=2021.05.0->pytorch-lightning) (1.24.3)\n",
            "Requirement already satisfied: idna<3,>=2.5 in /usr/local/lib/python3.7/dist-packages (from requests->fsspec[http]!=2021.06.0,>=2021.05.0->pytorch-lightning) (2.10)\n",
            "Requirement already satisfied: oauthlib>=3.0.0 in /usr/local/lib/python3.7/dist-packages (from requests-oauthlib>=0.7.0->google-auth-oauthlib<0.5,>=0.4.1->tensorboard>=2.2.0->pytorch-lightning) (3.2.0)\n",
            "Collecting async-timeout<5.0,>=4.0.0a3\n",
            "  Downloading async_timeout-4.0.2-py3-none-any.whl (5.8 kB)\n",
            "Requirement already satisfied: charset-normalizer<3.0,>=2.0 in /usr/local/lib/python3.7/dist-packages (from aiohttp->fsspec[http]!=2021.06.0,>=2021.05.0->pytorch-lightning) (2.0.12)\n",
            "Collecting yarl<2.0,>=1.0\n",
            "  Downloading yarl-1.7.2-cp37-cp37m-manylinux_2_5_x86_64.manylinux1_x86_64.manylinux_2_12_x86_64.manylinux2010_x86_64.whl (271 kB)\n",
            "\u001b[K     |████████████████████████████████| 271 kB 78.6 MB/s \n",
            "\u001b[?25hCollecting multidict<7.0,>=4.5\n",
            "  Downloading multidict-6.0.2-cp37-cp37m-manylinux_2_17_x86_64.manylinux2014_x86_64.whl (94 kB)\n",
            "\u001b[K     |████████████████████████████████| 94 kB 4.9 MB/s \n",
            "\u001b[?25hRequirement already satisfied: attrs>=17.3.0 in /usr/local/lib/python3.7/dist-packages (from aiohttp->fsspec[http]!=2021.06.0,>=2021.05.0->pytorch-lightning) (21.4.0)\n",
            "Collecting aiosignal>=1.1.2\n",
            "  Downloading aiosignal-1.2.0-py3-none-any.whl (8.2 kB)\n",
            "Collecting frozenlist>=1.1.1\n",
            "  Downloading frozenlist-1.3.0-cp37-cp37m-manylinux_2_5_x86_64.manylinux1_x86_64.manylinux_2_17_x86_64.manylinux2014_x86_64.whl (144 kB)\n",
            "\u001b[K     |████████████████████████████████| 144 kB 78.6 MB/s \n",
            "\u001b[?25hCollecting asynctest==0.13.0\n",
            "  Downloading asynctest-0.13.0-py3-none-any.whl (26 kB)\n",
            "Installing collected packages: multidict, frozenlist, yarl, asynctest, async-timeout, aiosignal, fsspec, aiohttp, torchmetrics, PyYAML, pyDeprecate, pytorch-lightning\n",
            "  Attempting uninstall: PyYAML\n",
            "    Found existing installation: PyYAML 3.13\n",
            "    Uninstalling PyYAML-3.13:\n",
            "      Successfully uninstalled PyYAML-3.13\n",
            "Successfully installed PyYAML-6.0 aiohttp-3.8.1 aiosignal-1.2.0 async-timeout-4.0.2 asynctest-0.13.0 frozenlist-1.3.0 fsspec-2022.5.0 multidict-6.0.2 pyDeprecate-0.3.2 pytorch-lightning-1.6.4 torchmetrics-0.9.1 yarl-1.7.2\n",
            "Looking in indexes: https://pypi.org/simple, https://us-python.pkg.dev/colab-wheels/public/simple/\n",
            "Collecting mediapipe\n",
            "  Downloading mediapipe-0.8.10-cp37-cp37m-manylinux_2_17_x86_64.manylinux2014_x86_64.whl (32.8 MB)\n",
            "\u001b[K     |████████████████████████████████| 32.8 MB 1.1 MB/s \n",
            "\u001b[?25hRequirement already satisfied: numpy in /usr/local/lib/python3.7/dist-packages (from mediapipe) (1.21.6)\n",
            "Requirement already satisfied: opencv-contrib-python in /usr/local/lib/python3.7/dist-packages (from mediapipe) (4.1.2.30)\n",
            "Requirement already satisfied: matplotlib in /usr/local/lib/python3.7/dist-packages (from mediapipe) (3.2.2)\n",
            "Requirement already satisfied: attrs>=19.1.0 in /usr/local/lib/python3.7/dist-packages (from mediapipe) (21.4.0)\n",
            "Requirement already satisfied: protobuf>=3.11.4 in /usr/local/lib/python3.7/dist-packages (from mediapipe) (3.17.3)\n",
            "Requirement already satisfied: absl-py in /usr/local/lib/python3.7/dist-packages (from mediapipe) (1.1.0)\n",
            "Requirement already satisfied: six>=1.9 in /usr/local/lib/python3.7/dist-packages (from protobuf>=3.11.4->mediapipe) (1.15.0)\n",
            "Requirement already satisfied: cycler>=0.10 in /usr/local/lib/python3.7/dist-packages (from matplotlib->mediapipe) (0.11.0)\n",
            "Requirement already satisfied: python-dateutil>=2.1 in /usr/local/lib/python3.7/dist-packages (from matplotlib->mediapipe) (2.8.2)\n",
            "Requirement already satisfied: kiwisolver>=1.0.1 in /usr/local/lib/python3.7/dist-packages (from matplotlib->mediapipe) (1.4.3)\n",
            "Requirement already satisfied: pyparsing!=2.0.4,!=2.1.2,!=2.1.6,>=2.0.1 in /usr/local/lib/python3.7/dist-packages (from matplotlib->mediapipe) (3.0.9)\n",
            "Requirement already satisfied: typing-extensions in /usr/local/lib/python3.7/dist-packages (from kiwisolver>=1.0.1->matplotlib->mediapipe) (4.1.1)\n",
            "Installing collected packages: mediapipe\n",
            "Successfully installed mediapipe-0.8.10\n",
            "Looking in indexes: https://pypi.org/simple, https://us-python.pkg.dev/colab-wheels/public/simple/\n",
            "Collecting git+https://github.com/rwightman/pytorch-image-models.git\n",
            "  Cloning https://github.com/rwightman/pytorch-image-models.git to /tmp/pip-req-build-kaid5516\n",
            "  Running command git clone -q https://github.com/rwightman/pytorch-image-models.git /tmp/pip-req-build-kaid5516\n",
            "Requirement already satisfied: torch>=1.4 in /usr/local/lib/python3.7/dist-packages (from timm==0.6.2.dev0) (1.11.0+cu113)\n",
            "Requirement already satisfied: torchvision in /usr/local/lib/python3.7/dist-packages (from timm==0.6.2.dev0) (0.12.0+cu113)\n",
            "Requirement already satisfied: typing-extensions in /usr/local/lib/python3.7/dist-packages (from torch>=1.4->timm==0.6.2.dev0) (4.1.1)\n",
            "Requirement already satisfied: requests in /usr/local/lib/python3.7/dist-packages (from torchvision->timm==0.6.2.dev0) (2.23.0)\n",
            "Requirement already satisfied: pillow!=8.3.*,>=5.3.0 in /usr/local/lib/python3.7/dist-packages (from torchvision->timm==0.6.2.dev0) (7.1.2)\n",
            "Requirement already satisfied: numpy in /usr/local/lib/python3.7/dist-packages (from torchvision->timm==0.6.2.dev0) (1.21.6)\n",
            "Requirement already satisfied: urllib3!=1.25.0,!=1.25.1,<1.26,>=1.21.1 in /usr/local/lib/python3.7/dist-packages (from requests->torchvision->timm==0.6.2.dev0) (1.24.3)\n",
            "Requirement already satisfied: certifi>=2017.4.17 in /usr/local/lib/python3.7/dist-packages (from requests->torchvision->timm==0.6.2.dev0) (2022.6.15)\n",
            "Requirement already satisfied: chardet<4,>=3.0.2 in /usr/local/lib/python3.7/dist-packages (from requests->torchvision->timm==0.6.2.dev0) (3.0.4)\n",
            "Requirement already satisfied: idna<3,>=2.5 in /usr/local/lib/python3.7/dist-packages (from requests->torchvision->timm==0.6.2.dev0) (2.10)\n",
            "Building wheels for collected packages: timm\n",
            "  Building wheel for timm (setup.py) ... \u001b[?25l\u001b[?25hdone\n",
            "  Created wheel for timm: filename=timm-0.6.2.dev0-py3-none-any.whl size=499021 sha256=240212fd74ecdff82caf35012f4456500b61fd4cd9f327df2a792d06ab5f9d33\n",
            "  Stored in directory: /tmp/pip-ephem-wheel-cache-4fzu_mhz/wheels/a0/ec/5f/289118b747739bb1e02e36cf3d7e759721e881c183653719dc\n",
            "Successfully built timm\n",
            "Installing collected packages: timm\n",
            "Successfully installed timm-0.6.2.dev0\n"
          ]
        }
      ],
      "source": [
        "#@title **B. INSTALANDO DEPENDENCIAS**\n",
        "#@markdown  **B.1 Instalando Pytorch Lighthing**\n",
        "!pip install pytorch-lightning\n",
        "#@markdown  **B.2 Instalando Mediapipe**\n",
        "!pip install mediapipe\n",
        "#@markdown **B.3 Instalando TIMM from github**\n",
        "!pip install git+https://github.com/rwightman/pytorch-image-models.git"
      ]
    },
    {
      "cell_type": "code",
      "execution_count": null,
      "metadata": {
        "cellView": "form",
        "id": "8I_iwm-Tcbni"
      },
      "outputs": [],
      "source": [
        "#@title **C. IMPORTANDO LIBRERIAS**\n",
        "import torch\n",
        "import torch.nn as nn\n",
        "import torchvision\n",
        "import torchvision.transforms as transforms\n",
        "import torch.nn.functional as F\n",
        "import matplotlib.pyplot as plt\n",
        "import pytorch_lightning as pl\n",
        "from pytorch_lightning import Trainer\n",
        "import torchvision.models as models\n",
        "#import torchmetrics\n",
        "#from pytorch_lightning.metrics.functional import accuracy\n",
        "from torchmetrics.classification import Accuracy\n",
        "from torchvision import datasets\n",
        "from torch.utils.data.sampler import SubsetRandomSampler\n",
        "import numpy as np\n",
        "from datetime import datetime\n",
        "import sys, os\n",
        "from glob import glob\n",
        "import imageio\n",
        "from torch.utils.data import Dataset, DataLoader\n",
        "import timm\n",
        "import shutil\n",
        "from tqdm.notebook  import tqdm\n",
        "from pytorch_lightning.callbacks import Callback\n",
        "from pytorch_lightning.callbacks import EarlyStopping\n",
        "from sklearn import metrics as sk_metrics\n",
        "import pandas as pd\n",
        "import seaborn as sn\n",
        "from sklearn.metrics import classification_report"
      ]
    },
    {
      "cell_type": "code",
      "source": [
        "timm.list_models()"
      ],
      "metadata": {
        "id": "0Wu_vwxJcZVE"
      },
      "execution_count": null,
      "outputs": []
    },
    {
      "cell_type": "markdown",
      "metadata": {
        "id": "Gbm-AzF2EhTm"
      },
      "source": [
        "# **1. Carga del Dataset**\n",
        "\n",
        "\n"
      ]
    },
    {
      "cell_type": "code",
      "execution_count": null,
      "metadata": {
        "id": "fi1obn8jQhR9",
        "cellView": "form"
      },
      "outputs": [],
      "source": [
        "#@title **funciones** { run: \"auto\" }\n",
        "import shutil\n",
        "from tqdm.notebook  import tqdm\n",
        "import random\n",
        "import os\n",
        "import zipfile\n",
        "random.seed(10)\n",
        "\n",
        "#root_zip_dataset = '/content/gdrive/MyDrive/Colab Notebooks/dataset/RWF2000Processed/frames-150.7z'\n",
        "#!cp \"{root_zip_dataset}\" .\n",
        "#!p7zip -d frames-150.7z\n",
        "\n",
        "def copy_data(data_path, data_type, n_samples, opt=0, all=0):\n",
        "  TRAIN_PATH = os.path.join(data_path, data_type)\n",
        "  list_dire_clases= [f.path for f in os.scandir(TRAIN_PATH) if f.is_dir()]\n",
        "  list_name_clases = [os.path.basename(x) for x in list_dire_clases]\n",
        "\n",
        "  for class_path, class_name in zip(list_dire_clases, list_name_clases):\n",
        "    if(opt == 1 and class_name==\"Contempt\"):\n",
        "      continue\n",
        "\n",
        "    files_annot = glob(os.path.join(class_path, \"*.jpg\"))\n",
        "\n",
        "    if all:\n",
        "      samples = files_annot\n",
        "    else:\n",
        "      samples = random.sample(files_annot, n_samples)\n",
        "    print(f\"Copiando de {TRAIN_PATH}\")\n",
        "    print(f\"Clase {class_name} tiene {len(samples)} registros seleccionados\")\n",
        "    #continue\n",
        "    data_new_dir = os.path.join(\"/content/data\", data_type, class_name)\n",
        "    if not os.path.exists(data_new_dir):\n",
        "      os.makedirs(data_new_dir)\n",
        "    \n",
        "    print(\"copiando, por favor espere!!!...\")\n",
        "    pbar = tqdm(total=len(samples))\n",
        "    for sample in samples:\n",
        "      pbar.update(1)\n",
        "      new_dir = os.path.join(data_new_dir, os.path.basename(sample))\n",
        "      shutil.copy(sample, new_dir)\n",
        "    pbar.close()\n",
        "\n",
        "def copy_data(root_data, dataset_name, clases = 7):\n",
        "  root_path = os.path.join(root_data,dataset_name)\n",
        "  save_path_class =\"data\"\n",
        "  if not os.path.exists(save_path_class):\n",
        "      os.makedirs(save_path_class)\n",
        "  \n",
        "  with zipfile.ZipFile(root_path, 'r') as zip_ref:\n",
        "    if clases == 7:\n",
        "      listOfFileNames = zip_ref.namelist()\n",
        "      for file_n in zip_ref.namelist():\n",
        "        if file_n.startswith('train/Contempt/') or file_n.startswith('val/Contempt/'):\n",
        "          continue\n",
        "        else:\n",
        "          zip_ref.extract(file_n, save_path_class)\n",
        "    else:\n",
        "      zip_ref.extractall(save_path_class)"
      ]
    },
    {
      "cell_type": "code",
      "source": [
        "%%time\n",
        "root_data = \"/content/drive/MyDrive/Datasets/dataset UCSP\"\n",
        "data_name = \"Affect_net_local_seg_alig.zip\"\n",
        "copy_data(root_data, data_name)"
      ],
      "metadata": {
        "colab": {
          "base_uri": "https://localhost:8080/"
        },
        "id": "gRiDoQdCuvOo",
        "outputId": "4d286a2d-0f0b-478e-f012-f27f57430f10"
      },
      "execution_count": null,
      "outputs": [
        {
          "output_type": "stream",
          "name": "stdout",
          "text": [
            "CPU times: user 29.8 s, sys: 9.92 s, total: 39.7 s\n",
            "Wall time: 42.7 s\n"
          ]
        }
      ]
    },
    {
      "cell_type": "code",
      "execution_count": null,
      "metadata": {
        "id": "5GGLTyWOG6cO"
      },
      "outputs": [],
      "source": [
        "DATA_PATH = \"/content/data/\""
      ]
    },
    {
      "cell_type": "code",
      "execution_count": null,
      "metadata": {
        "colab": {
          "base_uri": "https://localhost:8080/"
        },
        "id": "mn1XY9fZFeom",
        "outputId": "7a808e4b-3243-4c66-92a3-7d16e3a8210c"
      },
      "outputs": [
        {
          "output_type": "stream",
          "name": "stdout",
          "text": [
            "Clase Contempt tiene 22500 registros\n",
            "Clase Surprise tiene 28180 registros\n",
            "Clase Disgust tiene 22818 registros\n",
            "Clase Sadness tiene 23000 registros\n",
            "Clase Neutral tiene 23000 registros\n",
            "Clase Happiness tiene 23000 registros\n",
            "Clase Anger tiene 23000 registros\n",
            "Clase Fear tiene 25512 registros\n"
          ]
        }
      ],
      "source": [
        "TRAIN_PATH = os.path.join(\"/content/data/train\")\n",
        "list_dire_clases= [f.path for f in os.scandir(TRAIN_PATH) if f.is_dir()]\n",
        "list_name_clases = [os.path.basename(x) for x in list_dire_clases]\n",
        "cantidades = []\n",
        "for class_path, class_name in zip(list_dire_clases, list_name_clases):\n",
        "  files_annot = glob(os.path.join(class_path, \"*.jpg\"))\n",
        "  print(f\"Clase {class_name} tiene {len(files_annot)} registros\")"
      ]
    },
    {
      "cell_type": "markdown",
      "metadata": {
        "id": "smRlygnefuLE"
      },
      "source": [
        "# **2. VISUALIZANDO EL DATASET**"
      ]
    },
    {
      "cell_type": "code",
      "execution_count": null,
      "metadata": {
        "cellView": "form",
        "id": "wTUhM0lMf4GO",
        "colab": {
          "base_uri": "https://localhost:8080/",
          "height": 455
        },
        "outputId": "8182fae4-5f88-4ca1-fc70-dab2fb9bdbaa"
      },
      "outputs": [
        {
          "output_type": "stream",
          "name": "stdout",
          "text": [
            "\n",
            "Clase Surprise tiene 28180 registros\n",
            "Clase Disgust tiene 22818 registros\n",
            "Clase Sadness tiene 23000 registros\n",
            "Clase Neutral tiene 23000 registros\n",
            "Clase Happiness tiene 23000 registros\n",
            "Clase Anger tiene 23000 registros\n",
            "Clase Fear tiene 25512 registros\n"
          ]
        },
        {
          "output_type": "execute_result",
          "data": {
            "text/plain": [
              "([0, 1, 2, 3, 4, 5, 6], <a list of 7 Text major ticklabel objects>)"
            ]
          },
          "metadata": {},
          "execution_count": 7
        },
        {
          "output_type": "display_data",
          "data": {
            "text/plain": [
              "<Figure size 432x288 with 1 Axes>"
            ],
            "image/png": "[encoded data removed]"
          },
          "metadata": {
            "needs_background": "light"
          }
        }
      ],
      "source": [
        "#@title DATOS DE ENTRENAMIENTO\n",
        "# Datos de entrenamiento\n",
        "DATA_PATH=\"/content/data\"\n",
        "TRAIN_PATH = os.path.join(DATA_PATH, \"train\")\n",
        "list_dire_clases= [f.path for f in os.scandir(TRAIN_PATH) if f.is_dir()]\n",
        "list_name_clases = [os.path.basename(x) for x in list_dire_clases]\n",
        "cantidades = []\n",
        "limit = 4200\n",
        "print()\n",
        "for class_path, class_name in zip(list_dire_clases, list_name_clases):\n",
        "  files_annot = glob(os.path.join(class_path, \"*.jpg\"))\n",
        "  files_names = [os.path.basename(x) for x in files_annot]\n",
        "  print(f\"Clase {class_name} tiene {len(files_annot)} registros\")\n",
        "  tama = len(files_annot)\n",
        "  cantidades.append(len(files_annot))\n",
        "  #ajustar_affecnetdata(files_annot, files_names, class_name, limit)\n",
        "plt.bar(list_name_clases,cantidades)\n",
        "plt.xticks(rotation=45)\n",
        "\n"
      ]
    },
    {
      "cell_type": "code",
      "execution_count": null,
      "metadata": {
        "cellView": "form",
        "colab": {
          "base_uri": "https://localhost:8080/",
          "height": 438
        },
        "id": "viUH4UuojsyX",
        "outputId": "68cc6aa3-a4d1-40c1-f635-e363a2036bf8"
      },
      "outputs": [
        {
          "output_type": "stream",
          "name": "stdout",
          "text": [
            "Clase Surprise tiene 500 registros\n",
            "Clase Disgust tiene 500 registros\n",
            "Clase Sadness tiene 500 registros\n",
            "Clase Neutral tiene 500 registros\n",
            "Clase Happiness tiene 500 registros\n",
            "Clase Anger tiene 500 registros\n",
            "Clase Fear tiene 500 registros\n"
          ]
        },
        {
          "output_type": "execute_result",
          "data": {
            "text/plain": [
              "([0, 1, 2, 3, 4, 5, 6], <a list of 7 Text major ticklabel objects>)"
            ]
          },
          "metadata": {},
          "execution_count": 8
        },
        {
          "output_type": "display_data",
          "data": {
            "text/plain": [
              "<Figure size 432x288 with 1 Axes>"
            ],
            "image/png": "[encoded data removed]"
          },
          "metadata": {
            "needs_background": "light"
          }
        }
      ],
      "source": [
        "#@title DATOS DE VALIDACION\n",
        "# Datos de entrenamiento\n",
        "TRAIN_PATH = os.path.join(DATA_PATH, \"valid\")\n",
        "list_dire_clases= [f.path for f in os.scandir(TRAIN_PATH) if f.is_dir()]\n",
        "list_name_clases = [os.path.basename(x) for x in list_dire_clases]\n",
        "cantidades = []\n",
        "limit = 4200\n",
        "for class_path, class_name in zip(list_dire_clases, list_name_clases):\n",
        "  files_annot = glob(os.path.join(class_path, \"*\"))\n",
        "  files_names = [os.path.basename(x) for x in files_annot]\n",
        "  print(f\"Clase {class_name} tiene {len(files_annot)} registros\")\n",
        "  tama = len(files_annot)\n",
        "  cantidades.append(len(files_annot))\n",
        "  #ajustar_affecnetdata(files_annot, files_names, class_name, limit)\n",
        "plt.bar(list_name_clases,cantidades)\n",
        "plt.xticks(rotation=45)"
      ]
    },
    {
      "cell_type": "markdown",
      "metadata": {
        "id": "qXW9ey_IIlcZ"
      },
      "source": [
        "#**3. Dataset definition**"
      ]
    },
    {
      "cell_type": "code",
      "execution_count": null,
      "metadata": {
        "id": "x2RUxiXUGbyK"
      },
      "outputs": [],
      "source": [
        "# https://discuss.pytorch.org/t/why-do-we-need-subsets-at-all/49391/7\n",
        "# adapted from ptrblck post\n",
        "class MyLazyDataset(Dataset):\n",
        "    def __init__(self, dataset, transform=None):\n",
        "        self.dataset = dataset\n",
        "        self.transform = transform\n",
        "\n",
        "    def __getitem__(self, index):\n",
        "        if self.transform:\n",
        "            x = self.transform(self.dataset[index][0])\n",
        "        else:\n",
        "            x = self.dataset[index][0]      \n",
        "\n",
        "\n",
        "        #plt.imshow(x)    \n",
        "        y = self.dataset[index][1]\n",
        "        return x, y\n",
        "    \n",
        "    def __len__(self):\n",
        "        return len(self.dataset)"
      ]
    },
    {
      "cell_type": "markdown",
      "metadata": {
        "id": "xcKZ6qHaOELZ"
      },
      "source": [
        "### directory structure of the dataset\n",
        "```\n",
        "root\n",
        "|\n",
        "-- train\n",
        "|\n",
        "-- validation\n",
        "```\n",
        "\n"
      ]
    },
    {
      "cell_type": "code",
      "execution_count": null,
      "metadata": {
        "id": "SVgKmpTvIwHk"
      },
      "outputs": [],
      "source": [
        "class DataModule(pl.LightningDataModule):\n",
        "    def __init__(self, dat_norm, data_dir: str, img_size = 224, batch_size = 200, align=True):\n",
        "        super().__init__()\n",
        "        self.data_dir = data_dir\n",
        "        self.img_size = img_size\n",
        "        self.align = align\n",
        "        self.transform = transforms.Compose([\n",
        "            transforms.Resize(size = self.img_size),\n",
        "            #transforms.CenterCrop(size = self.img_size),\n",
        "            transforms.ToTensor(),\n",
        "            transforms.Normalize(dat_norm[0], dat_norm[1])\n",
        "        ])\n",
        "\n",
        "        self.train_transform = transforms.Compose([\n",
        "            transforms.Resize(size = self.img_size),\n",
        "            #transforms.RandomRotation(degrees=15),\n",
        "            #transforms.CenterCrop(size=self.img_size),\n",
        "            #transforms.RandomHorizontalFlip(),\n",
        "            transforms.ToTensor(),\n",
        "            transforms.Normalize(dat_norm[0], dat_norm[1])\n",
        "            #transforms.Normalize([0.485, 0.456, 0.406], [0.229, 0.224, 0.225])\n",
        "        ])\n",
        "        self.batch_size = batch_size\n",
        "        self.num_workers = 4\n",
        "    \n",
        "    def setup(self, stage = None):\n",
        "        # train path\n",
        "        path_train = os.path.join(self.data_dir, 'train')\n",
        "        # test path\n",
        "        path_test =  os.path.join(self.data_dir, 'valid')\n",
        "        mydataset_train = datasets.ImageFolder(root = path_train)\n",
        "        mydataset_test  = datasets.ImageFolder(root = path_test)\n",
        "        self.path_test = path_test\n",
        "        self.categories =  mydataset_test.class_to_idx\n",
        "        traindataset = MyLazyDataset(mydataset_train, self.train_transform, rotate = self.align) # train\n",
        "        validdataset = MyLazyDataset(mydataset_train, self.train_transform, rotate = self.align) # validation\n",
        "        self.testdataset = MyLazyDataset(mydataset_test, self.transform, rotate = self.align) # test\n",
        "\n",
        "        # Create the index splits for training and validation  \n",
        "        # Train is divided into two subsets: train and validation\n",
        "        train_size = 0.9\n",
        "        num_train = len(mydataset_train)\n",
        "        indices = list(range(num_train))\n",
        "        split = int(np.floor(train_size * num_train))\n",
        "        np.random.shuffle(indices)\n",
        "        train_idx, valid_idx = indices[:split], indices[split:]\n",
        "        self.traindata = torch.utils.data.Subset(traindataset, indices=train_idx)\n",
        "        self.validdata = torch.utils.data.Subset(validdataset, indices=valid_idx)\n",
        "\n",
        "    def train_dataloader(self):\n",
        "        train_loader = torch.utils.data.DataLoader(\n",
        "            self.traindata, \n",
        "            batch_size=self.batch_size, \n",
        "            num_workers=self.num_workers, \n",
        "            drop_last=True)\n",
        "        return train_loader\n",
        "    def val_dataloader(self):\n",
        "        valid_loader = torch.utils.data.DataLoader(\n",
        "            self.validdata, \n",
        "            batch_size=self.batch_size, \n",
        "            num_workers=self.num_workers, \n",
        "            drop_last=True)\n",
        "        return valid_loader\n",
        "    def test_dataloader(self):\n",
        "        test_loader = torch.utils.data.DataLoader(\n",
        "            self.testdataset, \n",
        "            batch_size=self.batch_size,\n",
        "            num_workers=self.num_workers, \n",
        "            drop_last=True)\n",
        "        return test_loader"
      ]
    },
    {
      "cell_type": "code",
      "source": [
        "class NetworkTransferLearning(pl.LightningModule):\n",
        "    def __init__(self, type_net, optimizer=\"Adam\", num_classes = 7, lr = 1e-3, pretrained = True):\n",
        "        super().__init__()\n",
        "        self.num_classes = num_classes\n",
        "        self.optimizer = optimizer\n",
        "        self.lr = lr\n",
        "        self.backbone = timm.create_model(type_net, pretrained = pretrained)\n",
        "        if pretrained:\n",
        "            # freeze  weights\n",
        "            for param in self.backbone.parameters():\n",
        "                param.requires_grad = False\n",
        "\n",
        "        self.num_in_feat = self.backbone.get_classifier().in_features\n",
        "\n",
        "        block = nn.Sequential(nn.Linear(self.num_in_feat, 1024), \n",
        "                              nn.Dropout(0.5), \n",
        "                              nn.Linear(1024, 512), \n",
        "                              #nn.Dropout(0.5), \n",
        "                              nn.Linear(512, self.num_classes))\n",
        "\n",
        "        name, module = list(self.backbone.named_children())[-1]\n",
        "        self.backbone._modules[name] = block        \n",
        "\n",
        "        # 3 Loss function\n",
        "        self.loss = nn.CrossEntropyLoss()\n",
        "\n",
        "        # 4 Metrics\n",
        "        self.train_acc = Accuracy()\n",
        "        self.valid_acc = Accuracy(compute_on_step=False)  \n",
        "        self.test_acc  = Accuracy(compute_on_step=False)       \n",
        "\n",
        "    def forward(self, x):\n",
        "        out = self.backbone.forward(x)\n",
        "        #out = self.backbone(x)\n",
        "        return out\n",
        "\n",
        "    def training_step(self, batch, batch_idx):\n",
        "        images, targets = batch\n",
        "        outputs = self(images)\n",
        "        \n",
        "        loss = self.loss(outputs, targets)\n",
        "\n",
        "        #preds = nn.functional.softmax(outputs, dim=1)\n",
        "        preds = torch.argmax(outputs, dim=1)\n",
        "        self.train_acc(preds, targets)\n",
        "\n",
        "        self.log('train_loss', loss)\n",
        "        self.log('train_acc', self.train_acc)\n",
        "        return loss\n",
        "\n",
        "    def training_epoch_end(self, outs):\n",
        "        loss =self.train_acc.compute()        \n",
        "        self.log('avg_train_acc',loss)\n",
        "        print(f\"avg_train_acc: {loss}, \", end=\" \")\n",
        "    \n",
        "    def validation_step(self, batch, batch_idx):\n",
        "        images, targets = batch\n",
        "        outputs = self(images)\n",
        "        loss = self.loss(outputs, targets)\n",
        "\n",
        "        #preds = nn.functional.softmax(outputs, dim=1)\n",
        "        preds = torch.argmax(outputs, dim=1)\n",
        "        self.valid_acc(preds, targets)\n",
        "        self.log('val_loss', loss)\n",
        "        self.log('val_acc', self.valid_acc)\n",
        "        return loss\n",
        "    \n",
        "    def validation_epoch_end(self, val_step_outputs):\n",
        "        avg_val_acc = self.valid_acc.compute()\n",
        "        self.log('avg_val_acc',avg_val_acc)\n",
        "        print(f\"avg_val_acc: {avg_val_acc}\")\n",
        "\n",
        "    def test_step(self, batch, batch_idx):\n",
        "        images, targets = batch\n",
        "        outputs = self(images)\n",
        "        loss = self.loss(outputs, targets)\n",
        "\n",
        "        #preds = nn.functional.softmax(outputs, dim=1)\n",
        "        preds = torch.argmax(outputs, dim=1)\n",
        "        #print(preds)\n",
        "        self.test_acc(preds, targets)\n",
        "        self.log('test_loss', loss)\n",
        "        self.log('test_acc', self.test_acc)\n",
        "        return loss\n",
        "    \n",
        "    def test_epoch_end(self, val_step_outputs):\n",
        "        self.log('avg_test_acc', self.test_acc.compute())\n",
        "\n",
        "    def configure_optimizers(self):\n",
        "      if self.optimizer == \"Adam\":\n",
        "        optimizer = torch.optim.Adam(self.parameters(), lr=self.lr)\n",
        "      else:\n",
        "        #torch.optim.Adam(self.parameters(), lr=self.lr)\n",
        "        optimizer = torch.optim.SGD(self.parameters(), lr=self.lr)\n",
        "      return optimizer\n",
        "\n",
        "    def get_mean_std(self):\n",
        "      return self.backbone.default_cfg[\"mean\"], self.backbone.default_cfg[\"std\"]\n",
        "\n",
        "    def set_lr_optimizer(self, lr, optimizer):\n",
        "        self.optimizer = optimizer\n",
        "        self.lr = lr\n",
        "     \n",
        "\n"
      ],
      "metadata": {
        "id": "1wxNkL9FvPtZ"
      },
      "execution_count": null,
      "outputs": []
    },
    {
      "cell_type": "code",
      "source": [
        "from torch import optim\n",
        "def train_process():\n",
        "  from pytorch_lightning import callbacks as pl_callbacks\n",
        "  from sklearn import metrics as sk_metrics\n",
        "  callback_model_checkpoint = pl_callbacks.ModelCheckpoint(\n",
        "      '{epoch}-{valid_loss:.3f}', \n",
        "      monitor='val_loss', \n",
        "      mode='min'\n",
        "  )\n",
        "\n",
        "  chk_dir = \"Codigos\"\n",
        "  img_size = 224\n",
        "  base_dir = \"/content/data\"#/content/drive/MyDrive/UNIVERSIDAD CATÓLICA PROYECTOS/EMOTION RECOGNITION/Datasets/Affect_net_local_gray\"\n",
        "  num_class = 7\n",
        "  batch_size=150 #32\n",
        "  \n",
        "  model = 'swin_large_patch4_window7_224_in22k'\n",
        "\n",
        "  optimizer = \"Adam\"\n",
        "  lr = 1e-6\n",
        "  modelo = NetworkTransferLearning(type_net = model, optimizer = optimizer, num_classes=num_class, lr=lr)\n",
        "  dm = DataModule(modelo.get_mean_std(),data_dir = base_dir, img_size = img_size, batch_size=batch_size, align = True)\n",
        "  trainer = Trainer(fast_dev_run=False, default_root_dir=chk_dir, gpus=1, progress_bar_refresh_rate=20, max_epochs=10, checkpoint_callback=callback_model_checkpoint)\n",
        "  n = len(list(modelo.parameters()))\n",
        "  for i, param in enumerate(modelo.parameters()):\n",
        "    if i>n*0.70:\n",
        "      param.requires_grad = True\n",
        "  trainer.fit(modelo, dm)\n",
        "  trainer.test(modelo, datamodule=dm)"
      ],
      "metadata": {
        "id": "oTjgSES_dUXm"
      },
      "execution_count": null,
      "outputs": []
    },
    {
      "cell_type": "code",
      "source": [
        "import gc\n",
        "gc.collect()\n",
        "torch.cuda.empty_cache()"
      ],
      "metadata": {
        "id": "IiGOpWEbUd1t"
      },
      "execution_count": null,
      "outputs": []
    },
    {
      "cell_type": "code",
      "source": [
        "train_process()"
      ],
      "metadata": {
        "id": "332zDZwLCK3C"
      },
      "execution_count": null,
      "outputs": []
    },
    {
      "cell_type": "markdown",
      "metadata": {
        "id": "gg1p9ju9GdVw"
      },
      "source": [
        "# **ETAPA DE PRUEBAS**"
      ]
    },
    {
      "cell_type": "code",
      "source": [
        "%reload_ext tensorboard\n",
        "%tensorboard --logdir \"Codigos/lightning_logs\""
      ],
      "metadata": {
        "id": "K4aOHCQoZJvR"
      },
      "execution_count": null,
      "outputs": []
    },
    {
      "cell_type": "code",
      "source": [
        "#@title func\n",
        "@torch.no_grad()\n",
        "def get_all_preds(model, loader):\n",
        "    #device = \"cpu\"\n",
        "\n",
        "    all_preds = torch.tensor([]).to(\"cuda:0\")\n",
        "    all_labels = torch.tensor([]).to(\"cuda:0\")\n",
        "    for i, (x, y) in enumerate(loader):\n",
        "        print(f\"Cargando batch {i+1}\")\n",
        "        x, y = x.to(device), y.to(device)\n",
        "        preds = model(x)\n",
        "        all_preds = torch.cat(\n",
        "            (all_preds, preds)\n",
        "            ,dim=0\n",
        "        )\n",
        "        all_labels = torch.cat(\n",
        "            (all_labels, y)\n",
        "            ,dim=0\n",
        "        )\n",
        "    return all_preds, all_labels"
      ],
      "metadata": {
        "cellView": "form",
        "id": "uo-lj7qWbNPf"
      },
      "execution_count": null,
      "outputs": []
    },
    {
      "cell_type": "code",
      "source": [
        ""
      ],
      "metadata": {
        "id": "bYZsPlUkE41F"
      },
      "execution_count": null,
      "outputs": []
    },
    {
      "cell_type": "code",
      "execution_count": null,
      "metadata": {
        "id": "ako5soMSPTB3"
      },
      "outputs": [],
      "source": [
        "model_t = 'swin_large_patch4_window7_224_in22k'\n",
        "modelo2 = NetworkTransferLearning.load_from_checkpoint(\"Codigos/lightning_logs/version_63/checkpoints/epoch=32-step=9702.ckpt\", type_net=model_t, num_classes = 7)\n"
      ]
    },
    {
      "cell_type": "code",
      "execution_count": null,
      "metadata": {
        "id": "jNZWlDnhRrI0"
      },
      "outputs": [],
      "source": [
        "#base_dir = DATA_PATH \"/content/drive/MyDrive/UNIVERSIDAD CATÓLICA PROYECTOS/EMOTION RECOGNITION/Datasets/DATA_PATH\"\n",
        "#test_path = \"/content/drive/MyDrive/UNIVERSIDAD CATÓLICA PROYECTOS/EMOTION RECOGNITION/Datasets/DATA_PATH\"\n",
        "img_size = 224\n",
        "dm = DataModule(modelo2.get_mean_std(), data_dir = \"/content/data\", img_size = img_size, batch_size=1)\n",
        "dm.setup()"
      ]
    },
    {
      "cell_type": "code",
      "execution_count": null,
      "metadata": {
        "id": "Is5WBnIv0IB1"
      },
      "outputs": [],
      "source": [
        "y_true, y_pred = [],[]\n",
        "#modelo.freeze()\n",
        "#modelo.eval()\n",
        "#loader = dm.test_dataloader()\n",
        "#for i, (x, y) in enumerate(loader):\n",
        "#    print(f\"Cargando batch {i+1}\")\n",
        "#    #y_pred.extend([x.shape[0]])\n",
        "#    y_true.extend(list(y))\n",
        "#    #y_hat = modelo(x)#modelo.forward(x).argmax(axis=1).cpu().detach().numpy()\n",
        "#    pred_probs =  modelo(x)\n",
        "#    y_pred.extend(pred_probs.argmax(axis=-1).cpu().numpy())\n",
        "#    #y_true.append(y)\n",
        "from sklearn.metrics import confusion_matrix\n",
        "#from resources.plotcm import plot_confusion_matrix\n",
        "device = torch.device(\"cuda:0\" if torch.cuda.is_available() else \"cpu\")\n",
        "modelo2 = modelo2.to(device)\n",
        "loader = dm.test_dataloader()\n",
        "\n",
        "with torch.no_grad():\n",
        "    test_preds, all_labels = get_all_preds(modelo2, loader)\n",
        "\n",
        "y_true = all_labels.cpu()\n",
        "y_pred =test_preds.argmax(dim=1).cpu()\n",
        "cm = confusion_matrix(y_true, y_pred)\n",
        "tot = np.sum(cm, axis=1)\n",
        "cm_porc = np.divide(cm, np.reshape(tot, (-1,1)))\n",
        "#print(cm_porc)\n",
        "\n"
      ]
    },
    {
      "cell_type": "code",
      "execution_count": null,
      "metadata": {
        "id": "vNaoc8hLk45t"
      },
      "outputs": [],
      "source": [
        "print(f'Accuracy score on test data:\\t{sk_metrics.accuracy_score(y_true, y_pred)}')\n",
        "print(f'Macro F1 score on test data:\\t{sk_metrics.f1_score(y_true, y_pred, average=\"macro\")}')"
      ]
    },
    {
      "cell_type": "code",
      "execution_count": null,
      "metadata": {
        "id": "KszNOGpLE_S-",
        "cellView": "form"
      },
      "outputs": [],
      "source": [
        "#@title Matriz de confusión en porcentajes\n",
        "labels = list(dm.categories)\n",
        "# Calculate confusion matrix\n",
        "#confusion_matrix = sk_metrics.confusion_matrix(y_true, y_pred)\n",
        "df_confusion_matrix = pd.DataFrame(cm_porc, index=labels, columns=labels)\n",
        "\n",
        "# Show confusion matrix\n",
        "plt.figure(figsize=(12, 12))\n",
        "sn.heatmap(df_confusion_matrix, annot=True, cbar=False, cmap='Oranges', linewidths=1, linecolor='black', fmt=\".2%\")\n",
        "plt.xlabel('Predicted labels', fontsize=15)\n",
        "plt.xticks(fontsize=12)\n",
        "plt.ylabel('True labels', fontsize=15)\n",
        "plt.yticks(fontsize=12);\n",
        "#plt.savefig(os.path.join(RESULTS_PATH, \"confusion_matrix_porc.png\"))"
      ]
    },
    {
      "cell_type": "code",
      "execution_count": null,
      "metadata": {
        "id": "0zcblrjQZCzQ",
        "cellView": "form"
      },
      "outputs": [],
      "source": [
        "#@title Matriz de confusión con cantidades\n",
        "labels = list(dm.categories)\n",
        "# Calculate confusion matrix\n",
        "#confusion_matrix = sk_metrics.confusion_matrix(y_true, y_pred)\n",
        "df_confusion_matrix = pd.DataFrame(cm, index=labels, columns=labels)\n",
        "\n",
        "# Show confusion matrix\n",
        "plt.figure(figsize=(12, 12))\n",
        "sn.heatmap(df_confusion_matrix, annot=True, cbar=False, cmap='Oranges', linewidths=1, linecolor='black', fmt='g')\n",
        "plt.xlabel('Predicted labels', fontsize=15)\n",
        "plt.xticks(fontsize=12)\n",
        "plt.ylabel('True labels', fontsize=15)\n",
        "plt.yticks(fontsize=12);\n",
        "#plt.savefig(os.path.join(RESULTS_PATH, \"confusion_matrix.png\"))"
      ]
    },
    {
      "cell_type": "code",
      "execution_count": null,
      "metadata": {
        "id": "WjokK857VaWL"
      },
      "outputs": [],
      "source": [
        "report = classification_report(y_true, y_pred, target_names=labels, output_dict=True)\n",
        "print(classification_report(y_true, y_pred, target_names=labels))"
      ]
    },
    {
      "cell_type": "markdown",
      "source": [
        "# Probar **nuevamente**"
      ],
      "metadata": {
        "id": "OB3Tz9zmO5dB"
      }
    },
    {
      "cell_type": "code",
      "source": [
        "model_t = 'swin_large_patch4_window7_224_in22k'\n",
        "optimizer = \"Adam\"\n",
        "lr = 1e-6\n",
        "modelo2 = NetworkTransferLearning.load_from_checkpoint(\"/content/drive/MyDrive/Universidad UCSP/Proyecto Concytec/Codigos/lightning_logs/version_66/checkpoints/epoch=56-step=16758.ckpt\", type_net=model_t, optimizer = optimizer, num_classes=7, lr=lr)"
      ],
      "metadata": {
        "id": "smRWIYNLFgnq",
        "colab": {
          "base_uri": "https://localhost:8080/"
        },
        "outputId": "26b88f1b-45e0-4652-9dc6-9a274ac0f7a3"
      },
      "execution_count": null,
      "outputs": [
        {
          "output_type": "stream",
          "name": "stderr",
          "text": [
            "/usr/local/lib/python3.7/dist-packages/torch/functional.py:568: UserWarning: torch.meshgrid: in an upcoming release, it will be required to pass the indexing argument. (Triggered internally at  ../aten/src/ATen/native/TensorShape.cpp:2228.)\n",
            "  return _VF.meshgrid(tensors, **kwargs)  # type: ignore[attr-defined]\n",
            "Downloading: \"https://github.com/SwinTransformer/storage/releases/download/v1.0.0/swin_large_patch4_window7_224_22k.pth\" to /root/.cache/torch/hub/checkpoints/swin_large_patch4_window7_224_22k.pth\n"
          ]
        }
      ]
    },
    {
      "cell_type": "code",
      "source": [
        "from pytorch_lightning import callbacks as pl_callbacks\n",
        "from sklearn import metrics as sk_metrics\n",
        "callback_model_checkpoint = pl_callbacks.ModelCheckpoint(\n",
        "      '{epoch}-{valid_loss:.3f}', \n",
        "      monitor='val_loss', \n",
        "      mode='min'\n",
        "  )\n",
        "\n",
        "chk_dir = \"/content/drive/MyDrive/Universidad UCSP/Proyecto Concytec/Codigos\"\n",
        "img_size = 224\n",
        "base_dir = \"/content/data\"#/content/drive/MyDrive/UNIVERSIDAD CATÓLICA PROYECTOS/EMOTION RECOGNITION/Datasets/Affect_net_local_gray\"\n",
        "num_class = 7\n",
        "dm = DataModule(modelo2.get_mean_std(),data_dir = base_dir, img_size = img_size, batch_size=100, align = True)\n",
        "n = len(list(modelo2.parameters()))\n",
        "for i, param in enumerate(modelo2.parameters()):\n",
        "  if i>n*0.70:\n",
        "    param.requires_grad = True\n",
        "trainer = Trainer(fast_dev_run=False, default_root_dir=chk_dir, gpus=1, progress_bar_refresh_rate=20, max_epochs=40, checkpoint_callback=callback_model_checkpoint)\n",
        "trainer.fit(modelo2, dm)\n",
        "trainer.test(modelo2, datamodule=dm)"
      ],
      "metadata": {
        "id": "zKcvjWe4O9gn"
      },
      "execution_count": null,
      "outputs": []
    }
  ],
  "metadata": {
    "colab": {
      "collapsed_sections": [
        "D1r4b7eNz34Z"
      ],
      "machine_shape": "hm",
      "name": "Fase 2. Modelo Swin Transformer - V1.ipynb",
      "provenance": [],
      "toc_visible": true
    },
    "kernelspec": {
      "display_name": "Python 3",
      "name": "python3"
    },
    "language_info": {
      "name": "python"
    },
    "accelerator": "GPU"
  },
  "nbformat": 4,
  "nbformat_minor": 0
}